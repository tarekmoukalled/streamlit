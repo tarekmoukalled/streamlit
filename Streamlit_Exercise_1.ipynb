{
 "cells": [
  {
   "cell_type": "code",
   "execution_count": 2,
   "id": "b76ac518",
   "metadata": {},
   "outputs": [
    {
     "name": "stderr",
     "output_type": "stream",
     "text": [
      "C:\\Users\\TM\\anaconda3\\lib\\site-packages\\altair\\utils\\core.py:230: UserWarning: I don't know how to infer vegalite type from 'empty'.  Defaulting to nominal.\n",
      "  warnings.warn(\n"
     ]
    },
    {
     "data": {
      "text/plain": [
       "DeltaGenerator()"
      ]
     },
     "execution_count": 2,
     "metadata": {},
     "output_type": "execute_result"
    }
   ],
   "source": [
    "import numpy as np\n",
    "import pandas as pd\n",
    "import streamlit as st\n",
    "import matplotlib.pyplot as plt\n",
    "\n",
    "df = pd.read_csv(\"C:\\\\Users\\\\TM\\\\Desktop\\\\Global-Superstore.csv\", encoding='latin1')\n",
    "\n",
    "# Convert the 'Order Date' column to a datetime data type\n",
    "df['Order Date'] = pd.to_datetime(df['Order Date'])\n",
    "\n",
    "# Create a Streamlit app\n",
    "st.title(\"Interactive Data Exploration\")\n",
    "\n",
    "# Sidebar for user interaction\n",
    "st.sidebar.header(\"Filter Data\")\n",
    "\n",
    "# Filter by Category\n",
    "selected_category = st.sidebar.selectbox(\"Select Category\", df[\"Category\"].unique())\n",
    "\n",
    "# Filter by Sub-Category\n",
    "selected_sub_category = st.sidebar.selectbox(\"Select Sub-Category\", df[df[\"Category\"] == selected_category][\"Sub-Category\"].unique())\n",
    "\n",
    "# Filter by Region\n",
    "selected_region = st.sidebar.selectbox(\"Select Region\", df[\"Region\"].unique())\n",
    "\n",
    "# Filter the data based on user selections\n",
    "filtered_data = df[(df[\"Category\"] == selected_category) &\n",
    "                   (df[\"Sub-Category\"] == selected_sub_category) &\n",
    "                   (df[\"Region\"] == selected_region)]\n",
    "\n",
    "# Display filtered data in a table\n",
    "st.write(f\"Showing data for Category: {selected_category}, Sub-Category: {selected_sub_category}, Region: {selected_region}\")\n",
    "st.write(filtered_data)\n",
    "\n",
    "# Create an interactive bar chart for Sales by City\n",
    "st.subheader(\"Sales by City\")\n",
    "city_sales_data = filtered_data.groupby(\"City\")[\"Sales\"].sum().sort_values(ascending=False)\n",
    "st.bar_chart(city_sales_data)\n",
    "\n",
    "# Create a line plot to visualize sales over time\n",
    "st.subheader(\"Sales Trend Over Time\")\n",
    "monthly_sales = filtered_data.resample('M', on='Order Date')['Sales'].sum().reset_index()\n",
    "fig, ax = plt.subplots(figsize=(10, 6))\n",
    "ax.plot(monthly_sales['Order Date'], monthly_sales['Sales'], marker='o', linestyle='-')\n",
    "ax.set_xlabel('Date')\n",
    "ax.set_ylabel('Total Sales')\n",
    "ax.set_title('Sales Trend Over Time')\n",
    "ax.xaxis.set_major_formatter(plt.matplotlib.dates.DateFormatter('%Y-%m'))\n",
    "plt.xticks(rotation=45, ha=\"right\")\n",
    "st.pyplot(fig)\n",
    "\n",
    "# Create a histogram for Shipping Cost\n",
    "st.subheader(\"Shipping Cost Distribution\")\n",
    "fig, ax = plt.subplots(figsize=(8, 6))\n",
    "ax.hist(filtered_data[\"Shipping Cost\"], bins=20, edgecolor=\"k\")\n",
    "ax.set_xlabel(\"Shipping Cost\")\n",
    "ax.set_ylabel(\"Frequency\")\n",
    "ax.set_title(\"Shipping Cost Distribution\")\n",
    "st.pyplot(fig)\n"
   ]
  }
 ],
 "metadata": {
  "kernelspec": {
   "display_name": "Python 3 (ipykernel)",
   "language": "python",
   "name": "python3"
  },
  "language_info": {
   "codemirror_mode": {
    "name": "ipython",
    "version": 3
   },
   "file_extension": ".py",
   "mimetype": "text/x-python",
   "name": "python",
   "nbconvert_exporter": "python",
   "pygments_lexer": "ipython3",
   "version": "3.9.13"
  }
 },
 "nbformat": 4,
 "nbformat_minor": 5
}
